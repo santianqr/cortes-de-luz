{
 "cells": [
  {
   "cell_type": "code",
   "execution_count": 1,
   "metadata": {},
   "outputs": [],
   "source": [
    "from selenium import webdriver\n",
    "from selenium.webdriver.edge.service import Service\n",
    "from selenium.webdriver.common.by import By\n",
    "import pandas as pd\n",
    "import time"
   ]
  },
  {
   "cell_type": "code",
   "execution_count": null,
   "metadata": {},
   "outputs": [],
   "source": [
    "s = Service(r'chromedriver.exe')\n",
    "\n",
    "browser = webdriver.Chrome(service=s)\n",
    "browser.get(\"https://bogota.gov.co/tag/luz\")\n",
    "\n",
    "#dates = []\n",
    "text = []\n",
    "\n",
    "for _ in range(0, 10):\n",
    "  for i in range(0,6):\n",
    "\n",
    "    if browser.find_elements(By.XPATH, '//h2[@class=\"field-content titulo--tarjeta\"]/a')[i].text.startswith('Cortes de luz en'):\n",
    "\n",
    "      #dates.append(browser.find_elements(By.XPATH, '//h2[@class=\"field-content titulo--tarjeta\"]/a')[i].text)\n",
    "      time.sleep(2)\n",
    "      browser.find_elements(By.XPATH, '//*[@class=\"field-content\"]/a/p')[i].click()\n",
    "      time.sleep(1)\n",
    "      browser.switch_to.window(browser.window_handles[1])\n",
    "      time.sleep(3)\n",
    "      text.append(browser.find_element(By.XPATH, '//*[@class=\"field__item\"]').text)\n",
    "      browser.close()\n",
    "      browser.switch_to.window(browser.window_handles[0])\n",
    "    else:\n",
    "      continue\n",
    "    browser.find_element(By.XPATH, '//li[@class=\"pager__item pager__item--next\"]/a').click()\n",
    "    time.sleep(2)\n",
    "\n",
    "browser.close()"
   ]
  }
 ],
 "metadata": {
  "kernelspec": {
   "display_name": "Python 3.10.5 64-bit",
   "language": "python",
   "name": "python3"
  },
  "language_info": {
   "codemirror_mode": {
    "name": "ipython",
    "version": 3
   },
   "file_extension": ".py",
   "mimetype": "text/x-python",
   "name": "python",
   "nbconvert_exporter": "python",
   "pygments_lexer": "ipython3",
   "version": "3.10.7"
  },
  "orig_nbformat": 4,
  "vscode": {
   "interpreter": {
    "hash": "26de051ba29f2982a8de78e945f0abaf191376122a1563185a90213a26c5da77"
   }
  }
 },
 "nbformat": 4,
 "nbformat_minor": 2
}
