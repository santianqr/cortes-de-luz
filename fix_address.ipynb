{
 "cells": [
  {
   "cell_type": "code",
   "execution_count": 65,
   "metadata": {},
   "outputs": [
    {
     "data": {
      "text/html": [
       "<div>\n",
       "<style scoped>\n",
       "    .dataframe tbody tr th:only-of-type {\n",
       "        vertical-align: middle;\n",
       "    }\n",
       "\n",
       "    .dataframe tbody tr th {\n",
       "        vertical-align: top;\n",
       "    }\n",
       "\n",
       "    .dataframe thead th {\n",
       "        text-align: right;\n",
       "    }\n",
       "</style>\n",
       "<table border=\"1\" class=\"dataframe\">\n",
       "  <thead>\n",
       "    <tr style=\"text-align: right;\">\n",
       "      <th></th>\n",
       "      <th>idccms</th>\n",
       "      <th>date</th>\n",
       "      <th>Horas_Login</th>\n",
       "      <th>shortname</th>\n",
       "      <th>Horas_Ajuste</th>\n",
       "      <th>Work_Total</th>\n",
       "      <th>Número total de ajustes</th>\n",
       "      <th>Client</th>\n",
       "      <th>Programa</th>\n",
       "      <th>address1</th>\n",
       "      <th>city</th>\n",
       "      <th>Zipcode</th>\n",
       "    </tr>\n",
       "  </thead>\n",
       "  <tbody>\n",
       "    <tr>\n",
       "      <th>0</th>\n",
       "      <td>3135893</td>\n",
       "      <td>2022-08-01</td>\n",
       "      <td>7.998611</td>\n",
       "      <td>Technical Problem - Power Outage</td>\n",
       "      <td>7.996667</td>\n",
       "      <td>NaN</td>\n",
       "      <td>NaN</td>\n",
       "      <td>Vodafone</td>\n",
       "      <td>Vodafone ZNAF2 Mass NLM Trainer</td>\n",
       "      <td>CL 15 DBIS 111A - 57 - Moravia</td>\n",
       "      <td>Bogotá</td>\n",
       "      <td>110921.0</td>\n",
       "    </tr>\n",
       "    <tr>\n",
       "      <th>1</th>\n",
       "      <td>4321056</td>\n",
       "      <td>2022-08-01</td>\n",
       "      <td>10.163333</td>\n",
       "      <td>Technical Problem - Power Outage</td>\n",
       "      <td>0.101111</td>\n",
       "      <td>NaN</td>\n",
       "      <td>NaN</td>\n",
       "      <td>Vodafone</td>\n",
       "      <td>Vodafone ZNAF2 Mass NLM NEO Agents</td>\n",
       "      <td>DG 143 128 - 53</td>\n",
       "      <td>Bogota DC</td>\n",
       "      <td>111821.0</td>\n",
       "    </tr>\n",
       "    <tr>\n",
       "      <th>2</th>\n",
       "      <td>4783659</td>\n",
       "      <td>2022-08-03</td>\n",
       "      <td>7.476667</td>\n",
       "      <td>Technical Problem - Power Outage</td>\n",
       "      <td>3.258611</td>\n",
       "      <td>NaN</td>\n",
       "      <td>NaN</td>\n",
       "      <td>Vodafone</td>\n",
       "      <td>Vodafone ZNAF2 Mass NLM Emisiones Agents</td>\n",
       "      <td>AVENIDA CALLE 26 N 92 32</td>\n",
       "      <td>bogota</td>\n",
       "      <td>111321.0</td>\n",
       "    </tr>\n",
       "    <tr>\n",
       "      <th>3</th>\n",
       "      <td>2646462</td>\n",
       "      <td>2022-08-03</td>\n",
       "      <td>9.044722</td>\n",
       "      <td>Technical Problem - Power Outage</td>\n",
       "      <td>2.865278</td>\n",
       "      <td>NaN</td>\n",
       "      <td>NaN</td>\n",
       "      <td>Vodafone</td>\n",
       "      <td>Vodafone ZNAF2 Mass NLM NEO Agents</td>\n",
       "      <td>KR 81 H N 51c Sur 69</td>\n",
       "      <td>Bogota Dc</td>\n",
       "      <td>110861.0</td>\n",
       "    </tr>\n",
       "    <tr>\n",
       "      <th>4</th>\n",
       "      <td>4535161</td>\n",
       "      <td>2022-08-04</td>\n",
       "      <td>9.013333</td>\n",
       "      <td>Technical Problem - Power Outage</td>\n",
       "      <td>0.196111</td>\n",
       "      <td>NaN</td>\n",
       "      <td>NaN</td>\n",
       "      <td>Vodafone</td>\n",
       "      <td>Vodafone ZNAF2 Mass NLM Agents</td>\n",
       "      <td>CLL 10 sur 8 45</td>\n",
       "      <td>Bogota</td>\n",
       "      <td>110831.0</td>\n",
       "    </tr>\n",
       "  </tbody>\n",
       "</table>\n",
       "</div>"
      ],
      "text/plain": [
       "    idccms       date  Horas_Login                         shortname  \\\n",
       "0  3135893 2022-08-01     7.998611  Technical Problem - Power Outage   \n",
       "1  4321056 2022-08-01    10.163333  Technical Problem - Power Outage   \n",
       "2  4783659 2022-08-03     7.476667  Technical Problem - Power Outage   \n",
       "3  2646462 2022-08-03     9.044722  Technical Problem - Power Outage   \n",
       "4  4535161 2022-08-04     9.013333  Technical Problem - Power Outage   \n",
       "\n",
       "   Horas_Ajuste  Work_Total  Número total de ajustes    Client  \\\n",
       "0      7.996667         NaN                      NaN  Vodafone   \n",
       "1      0.101111         NaN                      NaN  Vodafone   \n",
       "2      3.258611         NaN                      NaN  Vodafone   \n",
       "3      2.865278         NaN                      NaN  Vodafone   \n",
       "4      0.196111         NaN                      NaN  Vodafone   \n",
       "\n",
       "                                   Programa                        address1  \\\n",
       "0           Vodafone ZNAF2 Mass NLM Trainer  CL 15 DBIS 111A - 57 - Moravia   \n",
       "1        Vodafone ZNAF2 Mass NLM NEO Agents                 DG 143 128 - 53   \n",
       "2  Vodafone ZNAF2 Mass NLM Emisiones Agents        AVENIDA CALLE 26 N 92 32   \n",
       "3        Vodafone ZNAF2 Mass NLM NEO Agents            KR 81 H N 51c Sur 69   \n",
       "4            Vodafone ZNAF2 Mass NLM Agents                 CLL 10 sur 8 45   \n",
       "\n",
       "        city   Zipcode  \n",
       "0     Bogotá  110921.0  \n",
       "1  Bogota DC  111821.0  \n",
       "2     bogota  111321.0  \n",
       "3  Bogota Dc  110861.0  \n",
       "4     Bogota  110831.0  "
      ]
     },
     "execution_count": 65,
     "metadata": {},
     "output_type": "execute_result"
    }
   ],
   "source": [
    "import pandas as pd\n",
    "df = pd.read_excel('cortesTP.xlsx', sheet_name=2)\n",
    "df.head()"
   ]
  },
  {
   "cell_type": "code",
   "execution_count": null,
   "metadata": {},
   "outputs": [],
   "source": [
    "dict = {\n",
    "        'cl' : ['calle', 'cll'],\n",
    "        'carrera' : ['kr', 'cr', 'cra', 'kra', 'crra', 'crr']\n",
    "        'avenida' : ['av', ]\n",
    "      }"
   ]
  },
  {
   "cell_type": "code",
   "execution_count": null,
   "metadata": {},
   "outputs": [],
   "source": [
    "def fixAdd(string):\n",
    "  # string = 'KR 4H # 37 16 '\n",
    "  try:\n",
    "    string = string.lower().split() # ['kr', '4h', '37', '16']\n",
    "    \n",
    "  except:\n",
    "    "
   ]
  },
  {
   "cell_type": "code",
   "execution_count": 105,
   "metadata": {},
   "outputs": [
    {
     "ename": "TypeError",
     "evalue": "'NoneType' object is not subscriptable",
     "output_type": "error",
     "traceback": [
      "\u001b[1;31m---------------------------------------------------------------------------\u001b[0m",
      "\u001b[1;31mTypeError\u001b[0m                                 Traceback (most recent call last)",
      "Cell \u001b[1;32mIn [105], line 3\u001b[0m\n\u001b[0;32m      1\u001b[0m \u001b[38;5;28;01mimport\u001b[39;00m \u001b[38;5;21;01mgeocoder\u001b[39;00m\n\u001b[0;32m      2\u001b[0m loc \u001b[38;5;241m=\u001b[39m geocoder\u001b[38;5;241m.\u001b[39mosm(\u001b[38;5;124m'\u001b[39m\u001b[38;5;124mtransversal 87a sur #58D  bogota colombia\u001b[39m\u001b[38;5;124m'\u001b[39m)\n\u001b[1;32m----> 3\u001b[0m \u001b[43mloc\u001b[49m\u001b[38;5;241;43m.\u001b[39;49m\u001b[43mraw\u001b[49m\u001b[43m[\u001b[49m\u001b[38;5;124;43m'\u001b[39;49m\u001b[38;5;124;43maddress\u001b[39;49m\u001b[38;5;124;43m'\u001b[39;49m\u001b[43m]\u001b[49m[\u001b[38;5;124m'\u001b[39m\u001b[38;5;124mpostcode\u001b[39m\u001b[38;5;124m'\u001b[39m]\n",
      "\u001b[1;31mTypeError\u001b[0m: 'NoneType' object is not subscriptable"
     ]
    }
   ],
   "source": [
    "import geocoder\n",
    "loc = geocoder.osm('transversal 87a sur #58D  bogota colombia')\n",
    "loc.raw['address']['postcode']"
   ]
  },
  {
   "cell_type": "code",
   "execution_count": 4,
   "metadata": {},
   "outputs": [
    {
     "data": {
      "text/plain": [
       "['hola', 'amigos']"
      ]
     },
     "execution_count": 4,
     "metadata": {},
     "output_type": "execute_result"
    }
   ],
   "source": [
    "\"hola amigos\".split()"
   ]
  },
  {
   "cell_type": "code",
   "execution_count": 2,
   "metadata": {},
   "outputs": [],
   "source": [
    "import pandas as pd\n",
    "\n",
    "clients = {\n",
    "  \"indices\": ['1','2', '3'],\n",
    "  \"peso\": [1,2,3],\n",
    "  \"altura\": [4,5,6],\n",
    "}\n",
    "df = pd.DataFrame(clients)"
   ]
  },
  {
   "cell_type": "code",
   "execution_count": 3,
   "metadata": {},
   "outputs": [
    {
     "data": {
      "text/html": [
       "<div>\n",
       "<style scoped>\n",
       "    .dataframe tbody tr th:only-of-type {\n",
       "        vertical-align: middle;\n",
       "    }\n",
       "\n",
       "    .dataframe tbody tr th {\n",
       "        vertical-align: top;\n",
       "    }\n",
       "\n",
       "    .dataframe thead th {\n",
       "        text-align: right;\n",
       "    }\n",
       "</style>\n",
       "<table border=\"1\" class=\"dataframe\">\n",
       "  <thead>\n",
       "    <tr style=\"text-align: right;\">\n",
       "      <th></th>\n",
       "      <th>indices</th>\n",
       "      <th>peso</th>\n",
       "      <th>altura</th>\n",
       "    </tr>\n",
       "  </thead>\n",
       "  <tbody>\n",
       "    <tr>\n",
       "      <th>0</th>\n",
       "      <td>1</td>\n",
       "      <td>1</td>\n",
       "      <td>4</td>\n",
       "    </tr>\n",
       "    <tr>\n",
       "      <th>1</th>\n",
       "      <td>2</td>\n",
       "      <td>2</td>\n",
       "      <td>5</td>\n",
       "    </tr>\n",
       "    <tr>\n",
       "      <th>2</th>\n",
       "      <td>3</td>\n",
       "      <td>3</td>\n",
       "      <td>6</td>\n",
       "    </tr>\n",
       "  </tbody>\n",
       "</table>\n",
       "</div>"
      ],
      "text/plain": [
       "  indices  peso  altura\n",
       "0       1     1       4\n",
       "1       2     2       5\n",
       "2       3     3       6"
      ]
     },
     "execution_count": 3,
     "metadata": {},
     "output_type": "execute_result"
    }
   ],
   "source": [
    "df"
   ]
  },
  {
   "cell_type": "code",
   "execution_count": 8,
   "metadata": {},
   "outputs": [],
   "source": [
    "def funct(x):\n",
    "  return int(x[0]) + x[1] * x[2]"
   ]
  },
  {
   "cell_type": "code",
   "execution_count": 11,
   "metadata": {},
   "outputs": [],
   "source": [
    "df['imc2'] = df.apply(lambda x: funct(x), axis = 1 )"
   ]
  },
  {
   "cell_type": "code",
   "execution_count": 12,
   "metadata": {},
   "outputs": [
    {
     "data": {
      "text/html": [
       "<div>\n",
       "<style scoped>\n",
       "    .dataframe tbody tr th:only-of-type {\n",
       "        vertical-align: middle;\n",
       "    }\n",
       "\n",
       "    .dataframe tbody tr th {\n",
       "        vertical-align: top;\n",
       "    }\n",
       "\n",
       "    .dataframe thead th {\n",
       "        text-align: right;\n",
       "    }\n",
       "</style>\n",
       "<table border=\"1\" class=\"dataframe\">\n",
       "  <thead>\n",
       "    <tr style=\"text-align: right;\">\n",
       "      <th></th>\n",
       "      <th>indices</th>\n",
       "      <th>peso</th>\n",
       "      <th>altura</th>\n",
       "      <th>imc</th>\n",
       "      <th>imc2</th>\n",
       "    </tr>\n",
       "  </thead>\n",
       "  <tbody>\n",
       "    <tr>\n",
       "      <th>0</th>\n",
       "      <td>1</td>\n",
       "      <td>1</td>\n",
       "      <td>4</td>\n",
       "      <td>5</td>\n",
       "      <td>5</td>\n",
       "    </tr>\n",
       "    <tr>\n",
       "      <th>1</th>\n",
       "      <td>2</td>\n",
       "      <td>2</td>\n",
       "      <td>5</td>\n",
       "      <td>12</td>\n",
       "      <td>12</td>\n",
       "    </tr>\n",
       "    <tr>\n",
       "      <th>2</th>\n",
       "      <td>3</td>\n",
       "      <td>3</td>\n",
       "      <td>6</td>\n",
       "      <td>21</td>\n",
       "      <td>21</td>\n",
       "    </tr>\n",
       "  </tbody>\n",
       "</table>\n",
       "</div>"
      ],
      "text/plain": [
       "  indices  peso  altura  imc  imc2\n",
       "0       1     1       4    5     5\n",
       "1       2     2       5   12    12\n",
       "2       3     3       6   21    21"
      ]
     },
     "execution_count": 12,
     "metadata": {},
     "output_type": "execute_result"
    }
   ],
   "source": [
    "df "
   ]
  },
  {
   "cell_type": "code",
   "execution_count": null,
   "metadata": {},
   "outputs": [],
   "source": []
  }
 ],
 "metadata": {
  "kernelspec": {
   "display_name": "Python 3.10.7 64-bit",
   "language": "python",
   "name": "python3"
  },
  "language_info": {
   "codemirror_mode": {
    "name": "ipython",
    "version": 3
   },
   "file_extension": ".py",
   "mimetype": "text/x-python",
   "name": "python",
   "nbconvert_exporter": "python",
   "pygments_lexer": "ipython3",
   "version": "3.10.7"
  },
  "orig_nbformat": 4,
  "vscode": {
   "interpreter": {
    "hash": "26de051ba29f2982a8de78e945f0abaf191376122a1563185a90213a26c5da77"
   }
  }
 },
 "nbformat": 4,
 "nbformat_minor": 2
}
